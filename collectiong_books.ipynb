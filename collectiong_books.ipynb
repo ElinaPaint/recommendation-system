{
 "cells": [
  {
   "cell_type": "markdown",
   "metadata": {},
   "source": [
    "### **1. Librerias**"
   ]
  },
  {
   "cell_type": "code",
   "execution_count": 135,
   "metadata": {},
   "outputs": [
    {
     "name": "stdout",
     "output_type": "stream",
     "text": [
      "Email: elianapinto20@outlook.com\n"
     ]
    }
   ],
   "source": [
    "from dotenv import load_dotenv\n",
    "import os\n",
    "\n",
    "# Load the .env file\n",
    "load_dotenv()\n",
    "\n",
    "# Access variables\n",
    "email = os.getenv('email')\n",
    "password = os.getenv('password')\n",
    "\n",
    "print(f\"Email: {email}\")"
   ]
  },
  {
   "cell_type": "code",
   "execution_count": 136,
   "metadata": {},
   "outputs": [],
   "source": [
    "# librerias \n",
    "import pandas as pd\n",
    "import sys\n",
    "import time\n"
   ]
  },
  {
   "cell_type": "code",
   "execution_count": 137,
   "metadata": {},
   "outputs": [],
   "source": [
    "import warnings\n",
    "\n",
    "# Ignorar warnings de pandas sobre cambios futuros\n",
    "warnings.filterwarnings('ignore', category=FutureWarning)\n",
    "import logging\n"
   ]
  },
  {
   "cell_type": "code",
   "execution_count": 138,
   "metadata": {},
   "outputs": [],
   "source": [
    "# Librerias Selenium\n",
    "from webdriver_manager.chrome import ChromeDriverManager\n",
    "from selenium import webdriver\n",
    "from selenium.webdriver.chrome.options import Options\n",
    "from selenium.webdriver.common.by import By  # buscar por etiquetas, clases, ids, paths, xpaths\n",
    "from selenium.common.exceptions import NoSuchElementException\n",
    "from selenium.webdriver.common.keys import Keys"
   ]
  },
  {
   "cell_type": "code",
   "execution_count": 139,
   "metadata": {},
   "outputs": [],
   "source": [
    "from selenium import webdriver\n",
    "from selenium.webdriver.common.by import By\n",
    "from selenium.webdriver.support.ui import WebDriverWait\n",
    "from selenium.webdriver.support import expected_conditions as EC\n",
    "from selenium.common.exceptions import TimeoutException, NoSuchElementException, WebDriverException"
   ]
  },
  {
   "cell_type": "markdown",
   "metadata": {},
   "source": [
    "### **2. Webscrapping data**"
   ]
  },
  {
   "cell_type": "code",
   "execution_count": 140,
   "metadata": {},
   "outputs": [],
   "source": [
    "def pagina_principal(url):\n",
    "    # agregar opciones al driver\n",
    "    options = Options()\n",
    "\n",
    "    # Ajustar el custom User-Agent, evitar bloqueos facilmente\n",
    "    options.add_argument(\"user-agent=Mozilla/5.0 (Windows NT 10.0; Win64; x64) AppleWebKit/537.36 (KHTML, like Gecko) Chrome/131.0.0.0 Safari/537.36\")\n",
    "\n",
    "    # Inicializar el webdriver con las opciones personalizadas. \n",
    "    driver = webdriver.Chrome(options=options)\n",
    "\n",
    "    # maximizar pantalla\n",
    "    driver.maximize_window()\n",
    "\n",
    "    # Entra a la pagina\n",
    "    driver.get(url)\n",
    "    return driver"
   ]
  },
  {
   "cell_type": "code",
   "execution_count": 141,
   "metadata": {},
   "outputs": [],
   "source": [
    "def sign_in(driver):\n",
    "\n",
    "\n",
    "    try:\n",
    "        # Espera explícita para el enlace de inicio de sesión\n",
    "        sign_in_link = WebDriverWait(driver, 10).until(\n",
    "            EC.element_to_be_clickable((By.XPATH, '//*[@id=\"signIn\"]/div/div/a'))\n",
    "        )\n",
    "        sign_in_link.click()\n",
    "\n",
    "        # Espera explícita para el botón de inicio de sesión\n",
    "        sign_in_button = WebDriverWait(driver, 10).until(\n",
    "            EC.element_to_be_clickable((By.CSS_SELECTOR, 'button.gr-button.gr-button--dark.gr-button--auth.authPortalConnectButton.authPortalSignInButton'))\n",
    "        )\n",
    "        sign_in_button.click()\n",
    "\n",
    "        # Encuentra el campo de correo electrónico y envía el correo\n",
    "        email_input = WebDriverWait(driver, 10).until(\n",
    "            EC.presence_of_element_located((By.ID, \"ap_email\"))\n",
    "        )\n",
    "        email_input.send_keys(f\"{email}\")\n",
    "\n",
    "        # Encuentra el campo de contraseña y envía la contraseña\n",
    "        password_input = WebDriverWait(driver, 10).until(\n",
    "            EC.presence_of_element_located((By.ID, \"ap_password\"))\n",
    "        )\n",
    "        password_input.send_keys(f\"{password}\")\n",
    "\n",
    "        # Encuentra y haz clic en el botón de envío\n",
    "        sign_in_submit_button = WebDriverWait(driver, 10).until(\n",
    "            EC.element_to_be_clickable((By.ID, \"signInSubmit\"))\n",
    "        )\n",
    "        sign_in_submit_button.click()\n",
    "\n",
    "    except Exception as e:\n",
    "        print(f\"Se produjo un error: {e}\")\n"
   ]
  },
  {
   "cell_type": "code",
   "execution_count": 142,
   "metadata": {},
   "outputs": [],
   "source": [
    "### NEW ! \n",
    "# def iniciar_y_logear(driver, url):\n",
    "#     # Llamamos a la función para abrir la página\n",
    "#     driver = iniciar_driver(url)\n",
    "    \n",
    "#     # Llamamos a la función para iniciar sesión después de abrir la página\n",
    "#     sign_in(driver)\n",
    "\n",
    "# # Llamamos a la función que incluye ambas acciones\n",
    "# iniciar_y_logear(driver, 'http://example.com')\n"
   ]
  },
  {
   "cell_type": "code",
   "execution_count": 143,
   "metadata": {},
   "outputs": [],
   "source": [
    "def go_to_all_genres(driver):\n",
    "    \n",
    "    # Espera hasta que el span con el texto \"Browse ▾\" sea clickeable\n",
    "    browse_span = WebDriverWait(driver, 10).until(\n",
    "        EC.element_to_be_clickable((By.XPATH, \"//span[text()='Browse ▾']\"))\n",
    "    )\n",
    "\n",
    "    # Haz clic en el span\n",
    "    browse_span.click()\n",
    "\n",
    "    # Espera hasta que el enlace \"All Genres\" sea clickeable\n",
    "    all_genres_link = WebDriverWait(driver, 10).until(\n",
    "        EC.element_to_be_clickable((By.XPATH, \"//a[text()='All Genres']\"))\n",
    "    )\n",
    "\n",
    "    # Haz clic en el enlace \"All Genres\"\n",
    "    all_genres_link.click()"
   ]
  },
  {
   "cell_type": "code",
   "execution_count": 144,
   "metadata": {},
   "outputs": [],
   "source": [
    "def create_dict():\n",
    "    books_inf = {\n",
    "    'books': [],\n",
    "    'writer': [],\n",
    "    'rating': [],\n",
    "    'description': [],\n",
    "    'statistics': [],\n",
    "    'details': [],\n",
    "    'urls': [],\n",
    "    'gen': [],\n",
    "    'reading': [],\n",
    "    'will_read': [],\n",
    "    'isbn': [],\n",
    "    'ediciones': [],\n",
    "    'published': [],\n",
    "    'format': [],\n",
    "    'asin': [],\n",
    "    'language': []\n",
    "    }\n",
    "    return books_inf\n"
   ]
  },
  {
   "cell_type": "code",
   "execution_count": 145,
   "metadata": {},
   "outputs": [],
   "source": [
    "def get_genres(driver):\n",
    "    try:\n",
    "        # Encuentra todos los nombres de géneros\n",
    "        elements = driver.find_elements(By.CSS_SELECTOR, \".bigBoxContent a.gr-hyperlink\")\n",
    "        names = [element.text for element in elements]\n",
    "    except TimeoutException:\n",
    "        logging.error(\"Error general: No se pudo cargar la lista de géneros (Timeout).\")\n",
    "    except NoSuchElementException:\n",
    "        logging.error(\"Error: No se encontraron los géneros en la página.\")\n",
    "    except WebDriverException as e:\n",
    "        logging.error(f\"Error del navegador\")\n",
    "    except Exception as e:\n",
    "        logging.error(f\"Error inesperado: {e}\")\n",
    "\n",
    "    return names[5:6]"
   ]
  },
  {
   "cell_type": "code",
   "execution_count": 146,
   "metadata": {},
   "outputs": [],
   "source": [
    "# //[@class=\"actionLink\" and contains(text(), \"More {gen} books...\")]\n",
    "        \n",
    "        ## AQUI VA UNA FUNCION QUE BUSCA LOS LIBROS Y LUEGO LOS REVISA Y SACA LA INFO \n",
    "        ## DEBO VOLVER ATRAS PORQUE TIENE VARIOS LINKS LA PAGINA O? \n",
    "\n",
    "\n",
    "        # # Regresar nuevamente a la página anterior\n",
    "        # driver.back()\n",
    "        # time.sleep(2)  # Pausa para permitir la carga de la página"
   ]
  },
  {
   "cell_type": "code",
   "execution_count": 147,
   "metadata": {},
   "outputs": [],
   "source": [
    "def select_a_genre(driver, genres):\n",
    "\n",
    "    for gen in genres:\n",
    "        # Este rango parece estar limitado a 1 género, puedes ajustar el rango según sea necesario\n",
    "        logging.info(f\"Procesando género: {gen}\")\n",
    "        \n",
    "        try:\n",
    "            # Esperar que el enlace sea clickeable y hacer clic\n",
    "            art_link = WebDriverWait(driver, 20).until(\n",
    "                EC.element_to_be_clickable((By.XPATH, f\"//a[contains(text(), '{gen}')]\"))\n",
    "            )\n",
    "            art_link.click()\n",
    "            time.sleep(1)  # Pausa para permitir la carga de la página\n",
    "            \n",
    "            logging.info(f\"Navegando a: {driver.current_url}\")\n",
    "            return gen\n",
    "        \n",
    "\n",
    "        except TimeoutException:\n",
    "            logging.error(f\"Error: No se pudo hacer clic en el enlace para '{gen}' (Timeout).\")\n",
    "        except NoSuchElementException:\n",
    "            logging.error(f\"Error: No se encontró el enlace para '{gen}'.\")\n",
    "        except WebDriverException as e:\n",
    "            logging.error(f\"Error del navegador: {e}\")\n"
   ]
  },
  {
   "cell_type": "code",
   "execution_count": 148,
   "metadata": {},
   "outputs": [],
   "source": [
    "# def get_links(driver): \n",
    "#     try: \n",
    "#         logging.info(\"Proceeding with scraping book URLs...\")\n",
    "#         # Usamos un conjunto para evitar duplicados\n",
    "#         URLs = set()\n",
    "        \n",
    "#         # Encontramos los elementos <a> que empiezan con '/book/show'\n",
    "#         anchor_tags = driver.find_elements(By.XPATH, \"//a[starts-with(@href, '/book/show')]\")\n",
    "        \n",
    "#         # Iteramos sobre los elementos encontrados\n",
    "#         for tag in anchor_tags:\n",
    "#             url = tag.get_attribute('href')\n",
    "#             if url in URLs:\n",
    "#                 logging.info(f\"Duplicate URL skipped: {url}\")\n",
    "#             else:\n",
    "#                 URLs.add(url)\n",
    "#                 logging.info(f\"Found unique book URL: {url}\")\n",
    "        \n",
    "#         # Convertimos el conjunto en una lista para devolverlo\n",
    "#         return list(URLs)\n",
    "    \n",
    "#     except Exception as e:\n",
    "#         logging.error(\"Error occurred while trying to find book URLs\", exc_info=True)\n",
    "#         return []\n"
   ]
  },
  {
   "cell_type": "code",
   "execution_count": 149,
   "metadata": {},
   "outputs": [],
   "source": [
    "# def scroll_until_found(driver, xpath):\n",
    "#     for _ in range(10):  # Intenta 10 desplazamientos como máximo\n",
    "#         try:\n",
    "#             button = driver.find_element(By.XPATH, xpath)\n",
    "#             driver.execute_script(\"arguments[0].scrollIntoView({block: 'center'});\", button)\n",
    "#             return button\n",
    "#         except NoSuchElementException:\n",
    "#             driver.execute_script(\"window.scrollBy(0, 500);\")\n",
    "#             time.sleep(1)  # Espera para permitir que se cargue más contenido\n",
    "#     raise Exception(f\"No se encontró el elemento con XPath: {xpath}\")\n",
    "\n",
    "# def explore_books(driver, gen): \n",
    "#     try:\n",
    "#         gen_formatted = gen.lower()  # Convierte \"art\" a \"Art\"\n",
    "#         xpath = f'//div[@class=\"moreLink\"]/a[contains(text(), \"More {gen_formatted} books...\")]'\n",
    "#         button = scroll_until_found(driver, xpath)\n",
    "#         button.click()\n",
    "#         url_books = get_links(driver)\n",
    "#         print(f\"Botón 'More {gen} books...' clickeado exitosamente.\")\n",
    "#     except Exception as e:\n",
    "#         print(f\"No se pudo hacer clic en el botón: {e}\")\n",
    "    \n",
    "#     return url_books\n"
   ]
  },
  {
   "cell_type": "code",
   "execution_count": 150,
   "metadata": {},
   "outputs": [],
   "source": [
    "# logging.info(f\"Navegando a: {driver.current_url}\")\n",
    "\n",
    "# # Ahora buscar los enlaces en esta página\n",
    "# urls = get_links()\n",
    "# for url in urls:\n",
    "#     get_information(url, gen)"
   ]
  },
  {
   "cell_type": "code",
   "execution_count": 46,
   "metadata": {},
   "outputs": [],
   "source": []
  },
  {
   "cell_type": "code",
   "execution_count": 151,
   "metadata": {},
   "outputs": [],
   "source": [
    "url = \"https://www.goodreads.com\" "
   ]
  },
  {
   "cell_type": "code",
   "execution_count": 152,
   "metadata": {},
   "outputs": [],
   "source": [
    "driver = pagina_principal(url)"
   ]
  },
  {
   "cell_type": "code",
   "execution_count": 153,
   "metadata": {},
   "outputs": [],
   "source": [
    "sign_in(driver)"
   ]
  },
  {
   "cell_type": "code",
   "execution_count": 154,
   "metadata": {},
   "outputs": [],
   "source": [
    "# go_to_all_genres(driver)"
   ]
  },
  {
   "cell_type": "markdown",
   "metadata": {},
   "source": []
  },
  {
   "cell_type": "code",
   "execution_count": 155,
   "metadata": {},
   "outputs": [],
   "source": [
    "dict_dataframe = create_dict()"
   ]
  },
  {
   "cell_type": "code",
   "execution_count": 156,
   "metadata": {},
   "outputs": [
    {
     "data": {
      "text/plain": [
       "{'books': [],\n",
       " 'writer': [],\n",
       " 'rating': [],\n",
       " 'description': [],\n",
       " 'statistics': [],\n",
       " 'details': [],\n",
       " 'urls': [],\n",
       " 'gen': [],\n",
       " 'reading': [],\n",
       " 'will_read': [],\n",
       " 'isbn': [],\n",
       " 'ediciones': [],\n",
       " 'published': [],\n",
       " 'format': [],\n",
       " 'asin': [],\n",
       " 'language': []}"
      ]
     },
     "execution_count": 156,
     "metadata": {},
     "output_type": "execute_result"
    }
   ],
   "source": [
    "dict_dataframe"
   ]
  },
  {
   "cell_type": "code",
   "execution_count": 157,
   "metadata": {},
   "outputs": [],
   "source": [
    "# gen = select_a_genre(driver, genres)"
   ]
  },
  {
   "cell_type": "code",
   "execution_count": 158,
   "metadata": {},
   "outputs": [],
   "source": [
    "# gen"
   ]
  },
  {
   "cell_type": "code",
   "execution_count": 159,
   "metadata": {},
   "outputs": [],
   "source": [
    "# explore_books(driver, gen)"
   ]
  },
  {
   "cell_type": "code",
   "execution_count": 160,
   "metadata": {},
   "outputs": [],
   "source": [
    "books_links = pd.read_csv('../reviews_goodreads_tarea.csv')['book_id']\n",
    "urls = list(set(list(books_links)))\n",
    "# urls"
   ]
  },
  {
   "cell_type": "code",
   "execution_count": 161,
   "metadata": {},
   "outputs": [],
   "source": [
    "def create_link_books(urls):\n",
    "    urls_books_complete = []\n",
    "    url_base = 'https://www.goodreads.com/book/show/'\n",
    "    for i in urls:\n",
    "        url_complete = f\"{url_base}{i}\"\n",
    "        urls_books_complete.append(url_complete)\n",
    "    return urls_books_complete\n",
    "\n",
    "\n",
    "urls_to_scrap = create_link_books(urls)"
   ]
  },
  {
   "cell_type": "code",
   "execution_count": 162,
   "metadata": {},
   "outputs": [],
   "source": [
    "# urls_to_scrap"
   ]
  },
  {
   "cell_type": "code",
   "execution_count": 163,
   "metadata": {},
   "outputs": [],
   "source": [
    "def get_information(driver, url):\n",
    "    dict_dataframe['urls'].append(url)\n",
    "\n",
    "    try:\n",
    "        logging.info(f\"Processing URL: {url}\")  # Log the URL being processed\n",
    "\n",
    "        if url:\n",
    "            # Navigate to the book's page\n",
    "            driver.get(url)\n",
    "            \n",
    "            # Extract book name\n",
    "            try:\n",
    "                names_book = WebDriverWait(driver, 10).until(EC.presence_of_element_located((By.CSS_SELECTOR, 'h1.Text.Text__title1')))\n",
    "                name = names_book.text.strip()\n",
    "                dict_dataframe['books'].append(name if name else None)\n",
    "            except (NoSuchElementException, TimeoutException) as e:\n",
    "                logging.error(f\"Error extracting book name from {url}: {e}\")\n",
    "\n",
    "            # Extract authors\n",
    "            try:\n",
    "                autores = WebDriverWait(driver, 10).until(EC.presence_of_all_elements_located((By.CSS_SELECTOR, 'span.ContributorLink__name')))\n",
    "                name_writer = [autor.text.strip() for autor in autores if autor.text.strip()]\n",
    "                dict_dataframe['writer'].append(name_writer if name_writer else None)\n",
    "            except (NoSuchElementException, TimeoutException) as e:\n",
    "                logging.error(f\"Error extracting authors from {url}: {e}\")\n",
    "\n",
    "            # Extract rating\n",
    "            try:\n",
    "                ratings_num = WebDriverWait(driver, 10).until(EC.presence_of_element_located((By.CSS_SELECTOR, 'div.RatingStatistics__rating')))\n",
    "                ratings_num_text = ratings_num.text.strip()\n",
    "                dict_dataframe['rating'].append(ratings_num_text if ratings_num_text else None)\n",
    "            except (NoSuchElementException, TimeoutException) as e:\n",
    "                logging.error(f\"Error extracting rating from {url}: {e}\")\n",
    "\n",
    "            # Extract description\n",
    "            try:\n",
    "                desc = WebDriverWait(driver, 10).until(EC.presence_of_element_located((By.CSS_SELECTOR, 'span.Formatted')))\n",
    "                description = desc.text.strip()\n",
    "                dict_dataframe['description'].append(description if description else None)\n",
    "            except (NoSuchElementException, TimeoutException) as e:\n",
    "                logging.error(f\"Error extracting description from {url}: {e}\")\n",
    "\n",
    "            # Extract statistics\n",
    "            try:\n",
    "                statics = WebDriverWait(driver, 10).until(EC.presence_of_all_elements_located((By.CLASS_NAME, 'RatingStatistics__meta')))\n",
    "                ratings_book_views = statics[0].get_attribute('aria-label').strip() if statics else None\n",
    "                dict_dataframe['statistics'].append(ratings_book_views if ratings_book_views else None)\n",
    "            except (NoSuchElementException, TimeoutException) as e:\n",
    "                logging.error(f\"Error extracting statistics from {url}: {e}\")\n",
    "\n",
    "            # Extract additional details\n",
    "            try:\n",
    "                detail = WebDriverWait(driver, 10).until(EC.presence_of_all_elements_located((By.CSS_SELECTOR, 'div.FeaturedDetails p')))\n",
    "                dets = [det.text.strip() for det in detail if det.text.strip()]\n",
    "                dict_dataframe['details'].append(dets if dets else None)\n",
    "            except (NoSuchElementException, TimeoutException) as e:\n",
    "                logging.error(f\"Error extracting details from {url}: {e}\")\n",
    "\n",
    "            # Wait for the \"Book details and editions\" button and click it\n",
    "            try:\n",
    "                button = WebDriverWait(driver, 20).until(\n",
    "                    EC.element_to_be_clickable((By.XPATH, \"//button[contains(@class, 'Button--inline') and contains(@aria-label, 'Book details and editions')]\"))\n",
    "                )\n",
    "                button.click()\n",
    "                logging.info(\"Botón de detalles encontrado y clickeado.\")\n",
    "            except (NoSuchElementException, TimeoutException) as e:\n",
    "                logging.error(f\"Error finding or clicking the button: {e}\")\n",
    "\n",
    "            # Wait for the elements that contain 'Format', 'Published', 'ASIN', and 'Language'\n",
    "            try:\n",
    "                # Wait for the \"Format\" element to be visible\n",
    "                format_element = WebDriverWait(driver, 20).until(\n",
    "                    EC.presence_of_element_located((By.XPATH, \"//div[@class='DescListItem'][contains(., 'Format')]/dd//div[@class='TruncatedContent__text']\"))\n",
    "                )\n",
    "                dict_dataframe['format'].append(format_element.text.strip() if format_element else None)\n",
    "\n",
    "                # Wait for the \"Published\" element to be visible\n",
    "                published_element = WebDriverWait(driver, 20).until(\n",
    "                    EC.presence_of_element_located((By.XPATH, \"//div[@class='DescListItem'][contains(., 'Published')]/dd//div[@class='TruncatedContent__text']\"))\n",
    "                )\n",
    "                dict_dataframe['published'].append(published_element.text.strip() if published_element else None)\n",
    "\n",
    "                # Wait for the \"ASIN\" element to be visible\n",
    "                asin_element = WebDriverWait(driver, 20).until(\n",
    "                    EC.presence_of_element_located((By.XPATH, \"//div[@class='DescListItem'][contains(., 'ASIN')]/dd//span[@data-testid='asin']\"))\n",
    "                )\n",
    "                dict_dataframe['asin'].append(asin_element.text.strip() if asin_element else None)\n",
    "\n",
    "                # Wait for the \"Language\" element to be visible\n",
    "                language_element = WebDriverWait(driver, 20).until(\n",
    "                    EC.presence_of_element_located((By.XPATH, \"//div[@class='DescListItem'][contains(., 'Language')]/dd//div[@class='TruncatedContent__text']\"))\n",
    "                )\n",
    "                dict_dataframe['language'].append(language_element.text.strip() if language_element else None)\n",
    "\n",
    "            except (NoSuchElementException, TimeoutException) as e:\n",
    "                logging.error(f\"Error extracting data: {e}\")\n",
    "\n",
    "\n",
    "                        # Extract additional details after clicking the button\n",
    "            try:\n",
    "                # Waiting for the element containing \"Show all\" to be visible\n",
    "                element = WebDriverWait(driver, 20).until(\n",
    "                    EC.presence_of_element_located((By.XPATH, \"//span[contains(text(), 'Show all')]\"))\n",
    "                )\n",
    "                texto = element.text\n",
    "                if texto:\n",
    "                    print(f\"Texto encontrado: {texto}\")  # Mostrar el texto en la consola\n",
    "                    dict_dataframe['ediciones'].append(texto)  # Añadir el texto a la lista\n",
    "                else:\n",
    "                    logging.info(\"El elemento está presente pero no contiene texto.\")\n",
    "                    dict_dataframe['ediciones'].append(None)\n",
    "\n",
    "            except TimeoutException:\n",
    "                logging.warning(\"El elemento 'Show all' no está presente en esta URL.\")\n",
    "                dict_dataframe['ediciones'].append(None)  # Registrar que no había texto\n",
    "\n",
    "            except NoSuchElementException as e:\n",
    "                logging.error(f\"Error al buscar el texto: {e}\")\n",
    "                dict_dataframe['ediciones'].append(None)  # Registrar que no había texto\n",
    "    except Exception as e:\n",
    "        logging.error(f\"An unexpected error occurred for URL {url}: {e}\")\n",
    "\n"
   ]
  },
  {
   "cell_type": "code",
   "execution_count": 164,
   "metadata": {},
   "outputs": [
    {
     "name": "stderr",
     "output_type": "stream",
     "text": [
      "ERROR:root:Error extracting data: Message: \n",
      "Stacktrace:\n",
      "\tGetHandleVerifier [0x00007FF6560F80D5+2992373]\n",
      "\t(No symbol) [0x00007FF655D8BFD0]\n",
      "\t(No symbol) [0x00007FF655C2590A]\n",
      "\t(No symbol) [0x00007FF655C7926E]\n",
      "\t(No symbol) [0x00007FF655C7955C]\n",
      "\t(No symbol) [0x00007FF655CC27D7]\n",
      "\t(No symbol) [0x00007FF655C9F3AF]\n",
      "\t(No symbol) [0x00007FF655CBF584]\n",
      "\t(No symbol) [0x00007FF655C9F113]\n",
      "\t(No symbol) [0x00007FF655C6A918]\n",
      "\t(No symbol) [0x00007FF655C6BA81]\n",
      "\tGetHandleVerifier [0x00007FF656156A2D+3379789]\n",
      "\tGetHandleVerifier [0x00007FF65616C32D+3468109]\n",
      "\tGetHandleVerifier [0x00007FF656160043+3418211]\n",
      "\tGetHandleVerifier [0x00007FF655EEC78B+847787]\n",
      "\t(No symbol) [0x00007FF655D9757F]\n",
      "\t(No symbol) [0x00007FF655D92FC4]\n",
      "\t(No symbol) [0x00007FF655D9315D]\n",
      "\t(No symbol) [0x00007FF655D82979]\n",
      "\tBaseThreadInitThunk [0x00007FF939487374+20]\n",
      "\tRtlUserThreadStart [0x00007FF93A35CC91+33]\n",
      "\n",
      "WARNING:root:El elemento 'Show all' no está presente en esta URL.\n",
      "ERROR:root:Error extracting data: Message: \n",
      "Stacktrace:\n",
      "\tGetHandleVerifier [0x00007FF6560F80D5+2992373]\n",
      "\t(No symbol) [0x00007FF655D8BFD0]\n",
      "\t(No symbol) [0x00007FF655C2590A]\n",
      "\t(No symbol) [0x00007FF655C7926E]\n",
      "\t(No symbol) [0x00007FF655C7955C]\n",
      "\t(No symbol) [0x00007FF655CC27D7]\n",
      "\t(No symbol) [0x00007FF655C9F3AF]\n",
      "\t(No symbol) [0x00007FF655CBF584]\n",
      "\t(No symbol) [0x00007FF655C9F113]\n",
      "\t(No symbol) [0x00007FF655C6A918]\n",
      "\t(No symbol) [0x00007FF655C6BA81]\n",
      "\tGetHandleVerifier [0x00007FF656156A2D+3379789]\n",
      "\tGetHandleVerifier [0x00007FF65616C32D+3468109]\n",
      "\tGetHandleVerifier [0x00007FF656160043+3418211]\n",
      "\tGetHandleVerifier [0x00007FF655EEC78B+847787]\n",
      "\t(No symbol) [0x00007FF655D9757F]\n",
      "\t(No symbol) [0x00007FF655D92FC4]\n",
      "\t(No symbol) [0x00007FF655D9315D]\n",
      "\t(No symbol) [0x00007FF655D82979]\n",
      "\tBaseThreadInitThunk [0x00007FF939487374+20]\n",
      "\tRtlUserThreadStart [0x00007FF93A35CC91+33]\n",
      "\n"
     ]
    },
    {
     "name": "stdout",
     "output_type": "stream",
     "text": [
      "Texto encontrado: Show all 283 editions\n"
     ]
    },
    {
     "name": "stderr",
     "output_type": "stream",
     "text": [
      "ERROR:root:Error finding or clicking the button: Message: \n",
      "Stacktrace:\n",
      "\tGetHandleVerifier [0x00007FF6560F80D5+2992373]\n",
      "\t(No symbol) [0x00007FF655D8BFD0]\n",
      "\t(No symbol) [0x00007FF655C2590A]\n",
      "\t(No symbol) [0x00007FF655C7926E]\n",
      "\t(No symbol) [0x00007FF655C7955C]\n",
      "\t(No symbol) [0x00007FF655CC27D7]\n",
      "\t(No symbol) [0x00007FF655C9F3AF]\n",
      "\t(No symbol) [0x00007FF655CBF584]\n",
      "\t(No symbol) [0x00007FF655C9F113]\n",
      "\t(No symbol) [0x00007FF655C6A918]\n",
      "\t(No symbol) [0x00007FF655C6BA81]\n",
      "\tGetHandleVerifier [0x00007FF656156A2D+3379789]\n",
      "\tGetHandleVerifier [0x00007FF65616C32D+3468109]\n",
      "\tGetHandleVerifier [0x00007FF656160043+3418211]\n",
      "\tGetHandleVerifier [0x00007FF655EEC78B+847787]\n",
      "\t(No symbol) [0x00007FF655D9757F]\n",
      "\t(No symbol) [0x00007FF655D92FC4]\n",
      "\t(No symbol) [0x00007FF655D9315D]\n",
      "\t(No symbol) [0x00007FF655D82979]\n",
      "\tBaseThreadInitThunk [0x00007FF939487374+20]\n",
      "\tRtlUserThreadStart [0x00007FF93A35CC91+33]\n",
      "\n",
      "ERROR:root:Error extracting data: Message: \n",
      "Stacktrace:\n",
      "\tGetHandleVerifier [0x00007FF6560F80D5+2992373]\n",
      "\t(No symbol) [0x00007FF655D8BFD0]\n",
      "\t(No symbol) [0x00007FF655C2590A]\n",
      "\t(No symbol) [0x00007FF655C7926E]\n",
      "\t(No symbol) [0x00007FF655C7955C]\n",
      "\t(No symbol) [0x00007FF655CC27D7]\n",
      "\t(No symbol) [0x00007FF655C9F3AF]\n",
      "\t(No symbol) [0x00007FF655CBF584]\n",
      "\t(No symbol) [0x00007FF655C9F113]\n",
      "\t(No symbol) [0x00007FF655C6A918]\n",
      "\t(No symbol) [0x00007FF655C6BA81]\n",
      "\tGetHandleVerifier [0x00007FF656156A2D+3379789]\n",
      "\tGetHandleVerifier [0x00007FF65616C32D+3468109]\n",
      "\tGetHandleVerifier [0x00007FF656160043+3418211]\n",
      "\tGetHandleVerifier [0x00007FF655EEC78B+847787]\n",
      "\t(No symbol) [0x00007FF655D9757F]\n",
      "\t(No symbol) [0x00007FF655D92FC4]\n",
      "\t(No symbol) [0x00007FF655D9315D]\n",
      "\t(No symbol) [0x00007FF655D82979]\n",
      "\tBaseThreadInitThunk [0x00007FF939487374+20]\n",
      "\tRtlUserThreadStart [0x00007FF93A35CC91+33]\n",
      "\n"
     ]
    },
    {
     "name": "stdout",
     "output_type": "stream",
     "text": [
      "Texto encontrado: Show all 1355 editions\n"
     ]
    },
    {
     "name": "stderr",
     "output_type": "stream",
     "text": [
      "ERROR:root:Error finding or clicking the button: Message: \n",
      "Stacktrace:\n",
      "\tGetHandleVerifier [0x00007FF6560F80D5+2992373]\n",
      "\t(No symbol) [0x00007FF655D8BFD0]\n",
      "\t(No symbol) [0x00007FF655C2590A]\n",
      "\t(No symbol) [0x00007FF655C7926E]\n",
      "\t(No symbol) [0x00007FF655C7955C]\n",
      "\t(No symbol) [0x00007FF655CC27D7]\n",
      "\t(No symbol) [0x00007FF655C9F3AF]\n",
      "\t(No symbol) [0x00007FF655CBF584]\n",
      "\t(No symbol) [0x00007FF655C9F113]\n",
      "\t(No symbol) [0x00007FF655C6A918]\n",
      "\t(No symbol) [0x00007FF655C6BA81]\n",
      "\tGetHandleVerifier [0x00007FF656156A2D+3379789]\n",
      "\tGetHandleVerifier [0x00007FF65616C32D+3468109]\n",
      "\tGetHandleVerifier [0x00007FF656160043+3418211]\n",
      "\tGetHandleVerifier [0x00007FF655EEC78B+847787]\n",
      "\t(No symbol) [0x00007FF655D9757F]\n",
      "\t(No symbol) [0x00007FF655D92FC4]\n",
      "\t(No symbol) [0x00007FF655D9315D]\n",
      "\t(No symbol) [0x00007FF655D82979]\n",
      "\tBaseThreadInitThunk [0x00007FF939487374+20]\n",
      "\tRtlUserThreadStart [0x00007FF93A35CC91+33]\n",
      "\n",
      "ERROR:root:Error extracting data: Message: \n",
      "Stacktrace:\n",
      "\tGetHandleVerifier [0x00007FF6560F80D5+2992373]\n",
      "\t(No symbol) [0x00007FF655D8BFD0]\n",
      "\t(No symbol) [0x00007FF655C2590A]\n",
      "\t(No symbol) [0x00007FF655C7926E]\n",
      "\t(No symbol) [0x00007FF655C7955C]\n",
      "\t(No symbol) [0x00007FF655CC27D7]\n",
      "\t(No symbol) [0x00007FF655C9F3AF]\n",
      "\t(No symbol) [0x00007FF655CBF584]\n",
      "\t(No symbol) [0x00007FF655C9F113]\n",
      "\t(No symbol) [0x00007FF655C6A918]\n",
      "\t(No symbol) [0x00007FF655C6BA81]\n",
      "\tGetHandleVerifier [0x00007FF656156A2D+3379789]\n",
      "\tGetHandleVerifier [0x00007FF65616C32D+3468109]\n",
      "\tGetHandleVerifier [0x00007FF656160043+3418211]\n",
      "\tGetHandleVerifier [0x00007FF655EEC78B+847787]\n",
      "\t(No symbol) [0x00007FF655D9757F]\n",
      "\t(No symbol) [0x00007FF655D92FC4]\n",
      "\t(No symbol) [0x00007FF655D9315D]\n",
      "\t(No symbol) [0x00007FF655D82979]\n",
      "\tBaseThreadInitThunk [0x00007FF939487374+20]\n",
      "\tRtlUserThreadStart [0x00007FF93A35CC91+33]\n",
      "\n"
     ]
    },
    {
     "name": "stdout",
     "output_type": "stream",
     "text": [
      "Texto encontrado: Show all 707 editions\n"
     ]
    }
   ],
   "source": [
    "for i in urls_to_scrap[0:4]:\n",
    "    get_information(driver, i)"
   ]
  },
  {
   "cell_type": "code",
   "execution_count": 165,
   "metadata": {},
   "outputs": [
    {
     "data": {
      "text/plain": [
       "{'books': ['Harry Potter and the Half-Blood Prince',\n",
       "  'Good Omens: The Nice and Accurate Prophecies of Agnes Nutter, Witch',\n",
       "  \"Harry Potter and the Sorcerer's Stone\",\n",
       "  'Harry Potter and the Order of the Phoenix'],\n",
       " 'writer': [['J.K. Rowling', 'J.K. Rowling'],\n",
       "  ['Terry Pratchett', 'Neil Gaiman', 'Terry Pratchett'],\n",
       "  ['J.K. Rowling', 'J.K. Rowling'],\n",
       "  ['J.K. Rowling', 'Mary GrandPré', 'J.K. Rowling']],\n",
       " 'rating': ['4.58', '4.26', '4.47', '4.50'],\n",
       " 'description': [\"It is the middle of the summer, but there is an unseasonal mist pressing against the windowpanes. Harry Potter is waiting nervously in his bedroom at the Dursleys' house in Privet Drive for a visit from Professor Dumbledore himself. One of the last times he saw the Headmaster, he was in a fierce one-to-one duel with Lord Voldemort, and Harry can't quite believe that Professor Dumbledore will actually appear at the Dursleys' of all places. Why is the Professor coming to visit him now? What is it that cannot wait until Harry returns to Hogwarts in a few weeks' time? Harry's sixth year at Hogwarts has already got off to an unusual start, as the worlds of Muggle and magic start to intertwine...\",\n",
       "  \"Alternate cover editions can be found here and here\\n\\nAccording to The Nice and Accurate Prophecies of Agnes Nutter, Witch (the world's only completely accurate book of prophecies, written in 1655, before she exploded), the world will end on a Saturday. Next Saturday, in fact. Just before dinner.\\nSo the armies of Good and Evil are amassing, Atlantis is rising, frogs are falling, tempers are flaring. Everything appears to be going according to Divine Plan. Except a somewhat fussy angel and a fast-living demon—both of whom have lived amongst Earth's mortals since The Beginning and have grown rather fond of the lifestyle—are not actually looking forward to the coming Rapture.\",\n",
       "  \"Harry Potter has no idea how famous he is. That's because he's being raised by his miserable aunt and uncle who are terrified Harry will learn that he's really a wizard, just as his parents were. But everything changes when Harry is summoned to attend an infamous school for wizards, and he begins to discover some clues about his illustrious birthright. From the surprising way he is greeted by a lovable giant, to the unique curriculum and colorful faculty at his unusual school, Harry finds himself drawn deep inside a mystical world he never knew existed and closer to his own noble destiny.\",\n",
       "  'Harry Potter is about to start his fifth year at Hogwarts School of Witchcraft and Wizardry. Unlike most schoolboys, Harry never enjoys his summer holidays, but this summer is even worse than usual. The Dursleys, of course, are making his life a misery, but even his best friends, Ron and Hermione, seem to be neglecting him.\\n\\nHarry has had enough. He is beginning to think he must do something, anything, to change his situation, when the summer holidays come to an end in a very dramatic fashion. What Harry is about to discover in his new year at Hogwarts will turn his world upside down...'],\n",
       " 'statistics': ['3,455,025 ratings and 63,277 reviews',\n",
       "  '791,153 ratings and 43,077 reviews',\n",
       "  '10,690,018 ratings and 176,248 reviews',\n",
       "  '3,572,867 ratings and 69,873 reviews'],\n",
       " 'details': [['652 pages, Paperback', 'First published July 16, 2005'],\n",
       "  ['383 pages, Kindle Edition', 'First published May 10, 1990'],\n",
       "  ['309 pages, Hardcover', 'First published June 26, 1997'],\n",
       "  ['912 pages, Paperback', 'First published June 21, 2003']],\n",
       " 'urls': ['https://www.goodreads.com/book/show/1',\n",
       "  'https://www.goodreads.com/book/show/44531714',\n",
       "  'https://www.goodreads.com/book/show/3',\n",
       "  'https://www.goodreads.com/book/show/2'],\n",
       " 'gen': [],\n",
       " 'reading': [],\n",
       " 'will_read': [],\n",
       " 'isbn': [],\n",
       " 'ediciones': [None,\n",
       "  'Show all 283 editions',\n",
       "  'Show all 1355 editions',\n",
       "  'Show all 707 editions'],\n",
       " 'published': [],\n",
       " 'format': [],\n",
       " 'asin': [],\n",
       " 'language': []}"
      ]
     },
     "execution_count": 165,
     "metadata": {},
     "output_type": "execute_result"
    }
   ],
   "source": [
    "dict_dataframe\n",
    "\n"
   ]
  }
 ],
 "metadata": {
  "kernelspec": {
   "display_name": "venv_project",
   "language": "python",
   "name": "python3"
  },
  "language_info": {
   "codemirror_mode": {
    "name": "ipython",
    "version": 3
   },
   "file_extension": ".py",
   "mimetype": "text/x-python",
   "name": "python",
   "nbconvert_exporter": "python",
   "pygments_lexer": "ipython3",
   "version": "3.11.10"
  }
 },
 "nbformat": 4,
 "nbformat_minor": 2
}
