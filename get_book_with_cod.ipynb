{
 "cells": [
  {
   "cell_type": "markdown",
   "metadata": {},
   "source": [
    "### **1. Librerias**"
   ]
  },
  {
   "cell_type": "code",
   "execution_count": 41,
   "metadata": {},
   "outputs": [],
   "source": [
    "# librerias \n",
    "import pandas as pd\n",
    "import sys\n",
    "import time"
   ]
  },
  {
   "cell_type": "code",
   "execution_count": 42,
   "metadata": {},
   "outputs": [],
   "source": [
    "import warnings\n",
    "# Ignorar warnings de pandas sobre cambios futuros\n",
    "warnings.filterwarnings('ignore', category=FutureWarning)"
   ]
  },
  {
   "cell_type": "code",
   "execution_count": 43,
   "metadata": {},
   "outputs": [],
   "source": [
    "# Librerias Selenium\n",
    "from webdriver_manager.chrome import ChromeDriverManager\n",
    "from selenium import webdriver\n",
    "from selenium.webdriver.chrome.options import Options\n",
    "from selenium.webdriver.common.by import By  # buscar por etiquetas, clases, ids, paths, xpaths"
   ]
  },
  {
   "cell_type": "code",
   "execution_count": 44,
   "metadata": {},
   "outputs": [],
   "source": [
    "from selenium import webdriver\n",
    "from selenium.webdriver.common.by import By\n",
    "from selenium.webdriver.support.ui import WebDriverWait\n",
    "from selenium.webdriver.support import expected_conditions as EC\n",
    "from selenium.common.exceptions import TimeoutException, NoSuchElementException, WebDriverException"
   ]
  },
  {
   "cell_type": "code",
   "execution_count": 45,
   "metadata": {},
   "outputs": [],
   "source": [
    "url = 'https://www.goodreads.com/'"
   ]
  },
  {
   "cell_type": "code",
   "execution_count": 46,
   "metadata": {},
   "outputs": [
    {
     "name": "stdout",
     "output_type": "stream",
     "text": [
      "Email: elianapinto20@outlook.com\n"
     ]
    }
   ],
   "source": [
    "from dotenv import load_dotenv\n",
    "import os\n",
    "\n",
    "# Load the .env file\n",
    "load_dotenv()\n",
    "\n",
    "# Access variables\n",
    "email = os.getenv('email')\n",
    "password = os.getenv('password')\n",
    "\n",
    "print(f\"Email: {email}\")"
   ]
  },
  {
   "cell_type": "code",
   "execution_count": 47,
   "metadata": {},
   "outputs": [],
   "source": [
    "def pagina_principal(url):\n",
    "    # agregar opciones al driver\n",
    "    options = Options()\n",
    "\n",
    "    # Ajustar el custom User-Agent, evitar bloqueos facilmente\n",
    "    options.add_argument(\"user-agent=Mozilla/5.0 (Windows NT 10.0; Win64; x64) AppleWebKit/537.36 (KHTML, like Gecko) Chrome/131.0.0.0 Safari/537.36\")\n",
    "\n",
    "    # Inicializar el webdriver con las opciones personalizadas. \n",
    "    driver = webdriver.Chrome(options=options)\n",
    "\n",
    "    # maximizar pantalla\n",
    "    driver.maximize_window()\n",
    "\n",
    "    # Entra a la pagina\n",
    "    driver.get(url)\n",
    "    return driver"
   ]
  },
  {
   "cell_type": "code",
   "execution_count": 48,
   "metadata": {},
   "outputs": [],
   "source": [
    "def sign_in(driver):\n",
    "\n",
    "\n",
    "    try:\n",
    "        # Espera explícita para el enlace de inicio de sesión\n",
    "        sign_in_link = WebDriverWait(driver, 10).until(\n",
    "            EC.element_to_be_clickable((By.XPATH, '//*[@id=\"signIn\"]/div/div/a'))\n",
    "        )\n",
    "        sign_in_link.click()\n",
    "\n",
    "        # Espera explícita para el botón de inicio de sesión\n",
    "        sign_in_button = WebDriverWait(driver, 10).until(\n",
    "            EC.element_to_be_clickable((By.CSS_SELECTOR, 'button.gr-button.gr-button--dark.gr-button--auth.authPortalConnectButton.authPortalSignInButton'))\n",
    "        )\n",
    "        sign_in_button.click()\n",
    "\n",
    "        # Encuentra el campo de correo electrónico y envía el correo\n",
    "        email_input = WebDriverWait(driver, 10).until(\n",
    "            EC.presence_of_element_located((By.ID, \"ap_email\"))\n",
    "        )\n",
    "        email_input.send_keys(f\"{email}\")\n",
    "\n",
    "        # Encuentra el campo de contraseña y envía la contraseña\n",
    "        password_input = WebDriverWait(driver, 10).until(\n",
    "            EC.presence_of_element_located((By.ID, \"ap_password\"))\n",
    "        )\n",
    "        password_input.send_keys(f\"{password}\")\n",
    "\n",
    "        # Encuentra y haz clic en el botón de envío\n",
    "        sign_in_submit_button = WebDriverWait(driver, 10).until(\n",
    "            EC.element_to_be_clickable((By.ID, \"signInSubmit\"))\n",
    "        )\n",
    "        sign_in_submit_button.click()\n",
    "\n",
    "    except Exception as e:\n",
    "        print(f\"Se produjo un error: {e}\")"
   ]
  },
  {
   "cell_type": "code",
   "execution_count": 49,
   "metadata": {},
   "outputs": [],
   "source": [
    "driver = pagina_principal(url)"
   ]
  },
  {
   "cell_type": "code",
   "execution_count": 50,
   "metadata": {},
   "outputs": [],
   "source": [
    "sign_in(driver)"
   ]
  },
  {
   "cell_type": "code",
   "execution_count": 54,
   "metadata": {},
   "outputs": [],
   "source": [
    "books_links = pd.read_csv('../reviews_goodreads_tarea.csv')['book_id']\n",
    "urls = list(set(list(books_links)))"
   ]
  },
  {
   "cell_type": "code",
   "execution_count": 57,
   "metadata": {},
   "outputs": [],
   "source": [
    "urls = urls[0:2]"
   ]
  },
  {
   "cell_type": "code",
   "execution_count": 52,
   "metadata": {},
   "outputs": [
    {
     "name": "stdout",
     "output_type": "stream",
     "text": [
      "26070713\n",
      "No se encontró el botón de cierre de la publicidad o no fue clickeable.\n",
      "21420239\n",
      "No se encontró el botón de cierre de la publicidad o no fue clickeable.\n"
     ]
    }
   ],
   "source": [
    "from selenium.webdriver.common.keys import Keys\n",
    "\n",
    "# # agregar opciones al driver\n",
    "# options = Options()\n",
    "\n",
    "# # Ajustar el custom User-Agent, evitar bloqueos facilmente\n",
    "# options.add_argument(\"user-agent=Mozilla/5.0 (Windows NT 10.0; Win64; x64) AppleWebKit/537.36 (KHTML, like Gecko) Chrome/131.0.0.0 Safari/537.36\")\n",
    "\n",
    "# # Inicializar el webdriver con las opciones personalizadas. \n",
    "# driver = webdriver.Chrome(options=options)\n",
    "\n",
    "# # pagina a scrapear\n",
    "# url = \"https://www.goodreads.com/search?utf8=%E2%9C%93&query=\" \n",
    "\n",
    "# # Entra a la pagina\n",
    "# driver.get(url)\n",
    "\n",
    "for i in urls:\n",
    "    # searchBox__input searchBox__input--navbar\n",
    "\n",
    "    # buscar el boton de busqueda\n",
    "    book =  driver.find_element(\"class name\", \"searchBox__input--navbar\")\n",
    "    book.click()\n",
    "\n",
    "    # nombre del libro a buscar\n",
    "    libro = i\n",
    "    print(libro)\n",
    "\n",
    "    # Escribir el nombre del libro en el campo de búsqueda\n",
    "    book.send_keys(libro, Keys.ENTER)\n",
    "\n",
    "    time.sleep(5)\n",
    "\n",
    "    try:\n",
    "        # Espera hasta 10 segundos para que el botón de cierre sea visible y luego haz clic en él\n",
    "        close_ad_button = WebDriverWait(driver, 10).until(\n",
    "            EC.element_to_be_clickable((By.CSS_SELECTOR, 'button.gr-iconButton'))\n",
    "        )\n",
    "        close_ad_button.click()\n",
    "    except:\n",
    "        print(\"No se encontró el botón de cierre de la publicidad o no fue clickeable.\")"
   ]
  },
  {
   "cell_type": "code",
   "execution_count": 53,
   "metadata": {},
   "outputs": [
    {
     "ename": "NameError",
     "evalue": "name 'ss' is not defined",
     "output_type": "error",
     "traceback": [
      "\u001b[1;31m---------------------------------------------------------------------------\u001b[0m",
      "\u001b[1;31mNameError\u001b[0m                                 Traceback (most recent call last)",
      "Cell \u001b[1;32mIn[53], line 1\u001b[0m\n\u001b[1;32m----> 1\u001b[0m \u001b[43mss\u001b[49m\n",
      "\u001b[1;31mNameError\u001b[0m: name 'ss' is not defined"
     ]
    }
   ],
   "source": [
    "ss"
   ]
  },
  {
   "cell_type": "code",
   "execution_count": null,
   "metadata": {},
   "outputs": [],
   "source": [
    "def extract_number_from_url(url: str) -> str:\n",
    "    \"\"\"\n",
    "    Esta función recibe un string en formato URL y extrae el número del URL.\n",
    "    Devuelve el número como un string.\n",
    "\n",
    "    Arguments: \n",
    "        url: str\n",
    "\n",
    "    Return: \n",
    "        str\n",
    "    \n",
    "    Example:\n",
    "        >>> url = 'https://www.goodreads.com/book/show/30118.A_Light_in_the_Attic'\n",
    "        >>> extract_number_from_url(url)\n",
    "        '30118'\n",
    "    \"\"\"\n",
    "    # Dividir la URL en partes utilizando '/' como delimitador.\n",
    "    parts = url.split('/')\n",
    "    \n",
    "    # Buscar el segmento con el número antes del punto (si existe).\n",
    "    for part in parts:\n",
    "        if '.' in part:\n",
    "            return part.split('.')[0]\n",
    "    \n",
    "    # Si no encuentra un número con punto, retornar una cadena vacía o manejar el caso de error.\n",
    "    return \"\"\n",
    "\n",
    "# Ejemplo de uso\n",
    "url = 'https://www.goodreads.com/book/show/30118.A_Light_in_the_Attic'\n",
    "print(extract_number_from_url(url))"
   ]
  }
 ],
 "metadata": {
  "kernelspec": {
   "display_name": "venv_project",
   "language": "python",
   "name": "python3"
  },
  "language_info": {
   "codemirror_mode": {
    "name": "ipython",
    "version": 3
   },
   "file_extension": ".py",
   "mimetype": "text/x-python",
   "name": "python",
   "nbconvert_exporter": "python",
   "pygments_lexer": "ipython3",
   "version": "3.11.10"
  }
 },
 "nbformat": 4,
 "nbformat_minor": 2
}
